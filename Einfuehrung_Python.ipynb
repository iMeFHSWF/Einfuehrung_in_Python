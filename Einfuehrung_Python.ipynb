{
 "cells": [
  {
   "cell_type": "markdown",
   "metadata": {
    "deletable": false,
    "editable": false,
    "nbgrader": {
     "cell_type": "markdown",
     "checksum": "18622bf762537b6bca31264389400e44",
     "grade": false,
     "grade_id": "cell-b8e1a9d5af87ec65",
     "locked": true,
     "schema_version": 3,
     "solution": false,
     "task": false
    }
   },
   "source": [
    "# Einführung Python"
   ]
  },
  {
   "cell_type": "markdown",
   "metadata": {
    "deletable": false,
    "editable": false,
    "nbgrader": {
     "cell_type": "markdown",
     "checksum": "91fc2e0aab74cf339dc5105666c0d3d3",
     "grade": false,
     "grade_id": "cell-58f891ab5dd721ae",
     "locked": true,
     "schema_version": 3,
     "solution": false,
     "task": false
    }
   },
   "source": [
    "In dieser Einführung lernen Sie die Grundlagen der Programmiersprache Python. Doch zuerst ein paar wichtige Anmerkungen."
   ]
  },
  {
   "cell_type": "markdown",
   "metadata": {
    "deletable": false,
    "editable": false,
    "nbgrader": {
     "cell_type": "markdown",
     "checksum": "b98df2c1a17c4c64983780a9831595c2",
     "grade": false,
     "grade_id": "cell-7f4dc153af089aea",
     "locked": true,
     "schema_version": 3,
     "solution": false,
     "task": false
    }
   },
   "source": [
    "Ausführen einer Zelle in Jupyter Notebook:"
   ]
  },
  {
   "cell_type": "markdown",
   "metadata": {
    "deletable": false,
    "editable": false,
    "nbgrader": {
     "cell_type": "markdown",
     "checksum": "3c908dbbfa17aab340746ecf4a6b9e80",
     "grade": false,
     "grade_id": "cell-b62beb7f185a82e0",
     "locked": true,
     "schema_version": 3,
     "solution": false,
     "task": false
    }
   },
   "source": [
    "    <Shift> + <Enter>"
   ]
  },
  {
   "cell_type": "markdown",
   "metadata": {
    "deletable": false,
    "editable": false,
    "nbgrader": {
     "cell_type": "markdown",
     "checksum": "8ef68a90c7db4e8bc95d7e57295e12d4",
     "grade": false,
     "grade_id": "cell-f33cc1790c219001",
     "locked": true,
     "schema_version": 3,
     "solution": false,
     "task": false
    }
   },
   "source": [
    "Ausgabe in Python:\n"
   ]
  },
  {
   "cell_type": "code",
   "execution_count": null,
   "metadata": {},
   "outputs": [],
   "source": [
    "print(5)                        # Gibt den Wert 5 aus.\n",
    "print(\"Dies ist eine Ausgabe!\") # Gibt einen Satz aus.\n",
    "print(5+5)                      # Gibt das Ergebnis der Rechnung aus.\n",
    "print(\"Das Ergebnis ist:\", 7*3) # Kombinierte Ausgabe aus Satz und Rechnung."
   ]
  },
  {
   "cell_type": "markdown",
   "metadata": {
    "deletable": false,
    "editable": false,
    "nbgrader": {
     "cell_type": "markdown",
     "checksum": "d47fbf391dfcd09dff25612403b70681",
     "grade": false,
     "grade_id": "cell-20e30c30cc9d21af",
     "locked": true,
     "schema_version": 3,
     "solution": false,
     "task": false
    }
   },
   "source": [
    "Kommentare in Python:"
   ]
  },
  {
   "cell_type": "code",
   "execution_count": null,
   "metadata": {
    "deletable": false,
    "editable": false,
    "nbgrader": {
     "cell_type": "code",
     "checksum": "8513197405177adb48e9ce5783578e4e",
     "grade": false,
     "grade_id": "cell-3bb901bc35d6a82f",
     "locked": true,
     "schema_version": 3,
     "solution": false,
     "task": false
    }
   },
   "outputs": [],
   "source": [
    "# Dies ist ein Kommentar."
   ]
  },
  {
   "cell_type": "markdown",
   "metadata": {
    "deletable": false,
    "editable": false,
    "nbgrader": {
     "cell_type": "markdown",
     "checksum": "4acba0b2abed41c9ec6bcb243fc8caf9",
     "grade": false,
     "grade_id": "cell-711e913b34b7eb46",
     "locked": true,
     "schema_version": 3,
     "solution": false,
     "task": false
    }
   },
   "source": [
    "## Variablen - Datentypen und Datenstrukturen"
   ]
  },
  {
   "cell_type": "markdown",
   "metadata": {
    "deletable": false,
    "editable": false,
    "nbgrader": {
     "cell_type": "markdown",
     "checksum": "67d5f8e8237f3905c955148be7d70322",
     "grade": false,
     "grade_id": "cell-b930bc85690300f7",
     "locked": true,
     "schema_version": 3,
     "solution": false,
     "task": false
    }
   },
   "source": [
    "### Datentypen"
   ]
  },
  {
   "cell_type": "markdown",
   "metadata": {
    "deletable": false,
    "editable": false,
    "nbgrader": {
     "cell_type": "markdown",
     "checksum": "0aadc979a38ed3f8e83a3b2b308daab8",
     "grade": false,
     "grade_id": "cell-39741e6213d2f8f6",
     "locked": true,
     "schema_version": 3,
     "solution": false,
     "task": false
    }
   },
   "source": [
    "Bei dem Programmieren können Werte Variablen zugeordnet werden. Diese Variablen sind im Grunde wie Kisten. In einer Kiste kann ein Gegenstand verstaut werden. Um nach einiger Zeit noch zu wissen was in dieser Kiste verstaut worden ist, werden diese Beschriftet.\n",
    "Nichts anderes wird bei den Variablen gemacht. Es wird ein Wert einer selbst benannten Variablen zugeordnet."
   ]
  },
  {
   "cell_type": "code",
   "execution_count": null,
   "metadata": {},
   "outputs": [],
   "source": [
    "x = 3\n",
    "nummer = 40"
   ]
  },
  {
   "cell_type": "markdown",
   "metadata": {
    "deletable": false,
    "editable": false,
    "nbgrader": {
     "cell_type": "markdown",
     "checksum": "4a1e30cf91cdbe7ab0f3d354237577e8",
     "grade": false,
     "grade_id": "cell-d39e5b30cd70e039",
     "locked": true,
     "schema_version": 3,
     "solution": false,
     "task": false
    }
   },
   "source": [
    "    Bei der Benennung der Variablen muss darauf geachtet werden, \n",
    "    dass keine Umlaute oder Leerzeichen verwendet werden!"
   ]
  },
  {
   "cell_type": "markdown",
   "metadata": {
    "deletable": false,
    "editable": false,
    "nbgrader": {
     "cell_type": "markdown",
     "checksum": "61ee900b7abc9445d818dae6d4e0a366",
     "grade": false,
     "grade_id": "cell-617812cbf41f7b2c",
     "locked": true,
     "schema_version": 3,
     "solution": false,
     "task": false
    }
   },
   "source": [
    "Je nach zugeordneten Werten, werden die Variablen in unterschiedliche Datentypen unterschieden:"
   ]
  },
  {
   "cell_type": "markdown",
   "metadata": {
    "deletable": false,
    "editable": false,
    "nbgrader": {
     "cell_type": "markdown",
     "checksum": "29f080a247a7d18c32da4cce70b80362",
     "grade": false,
     "grade_id": "cell-515ad515844b2c86",
     "locked": true,
     "schema_version": 3,
     "solution": false,
     "task": false
    }
   },
   "source": [
    "- Integer (Ganzzahl)"
   ]
  },
  {
   "cell_type": "code",
   "execution_count": null,
   "metadata": {},
   "outputs": [],
   "source": [
    "x = 100\n",
    "y = -20"
   ]
  },
  {
   "cell_type": "markdown",
   "metadata": {
    "deletable": false,
    "editable": false,
    "nbgrader": {
     "cell_type": "markdown",
     "checksum": "a57fd848c7b3757d048eb29d63c4bc93",
     "grade": false,
     "grade_id": "cell-4a1aab63a5059015",
     "locked": true,
     "schema_version": 3,
     "solution": false,
     "task": false
    }
   },
   "source": [
    "- Float (Gleitkommazahl)"
   ]
  },
  {
   "cell_type": "code",
   "execution_count": null,
   "metadata": {},
   "outputs": [],
   "source": [
    "temperatur = 27.3\n",
    "durchschnitt = 1.94"
   ]
  },
  {
   "cell_type": "markdown",
   "metadata": {
    "deletable": false,
    "editable": false,
    "nbgrader": {
     "cell_type": "markdown",
     "checksum": "ff4e58b0e386cd7815f063d511ff604a",
     "grade": false,
     "grade_id": "cell-60897cc599726c96",
     "locked": true,
     "schema_version": 3,
     "solution": false,
     "task": false
    }
   },
   "source": [
    "- String (Zeichenkette)"
   ]
  },
  {
   "cell_type": "code",
   "execution_count": null,
   "metadata": {},
   "outputs": [],
   "source": [
    "name = \"Max Mustermann\"\n",
    "wort = 'Buch'"
   ]
  },
  {
   "cell_type": "markdown",
   "metadata": {
    "deletable": false,
    "editable": false,
    "nbgrader": {
     "cell_type": "markdown",
     "checksum": "2bc29e0d072e3f8b26ca8e769cdb6876",
     "grade": false,
     "grade_id": "cell-e0c7e985691ca415",
     "locked": true,
     "schema_version": 3,
     "solution": false,
     "task": false
    }
   },
   "source": [
    "- Bool (boolesche Werte)"
   ]
  },
  {
   "cell_type": "code",
   "execution_count": null,
   "metadata": {},
   "outputs": [],
   "source": [
    "zustand1 = True\n",
    "zustand2 = False"
   ]
  },
  {
   "cell_type": "markdown",
   "metadata": {
    "deletable": false,
    "editable": false,
    "nbgrader": {
     "cell_type": "markdown",
     "checksum": "dad4d01aa0b907a52197cd249767518c",
     "grade": false,
     "grade_id": "cell-caa04fbccd4bfe58",
     "locked": true,
     "schema_version": 3,
     "solution": false,
     "task": false
    }
   },
   "source": [
    "Um herauszufinden welchen Datentyp eine Variable besitzt, kann die Funktion \"type(x)\" verwendet werden."
   ]
  },
  {
   "cell_type": "code",
   "execution_count": null,
   "metadata": {},
   "outputs": [],
   "source": [
    "wort = \"String\"\n",
    "type(wort)"
   ]
  },
  {
   "cell_type": "markdown",
   "metadata": {
    "deletable": false,
    "editable": false,
    "nbgrader": {
     "cell_type": "markdown",
     "checksum": "2d183c2fdb17e40969b7ffad4b1c5a3d",
     "grade": false,
     "grade_id": "cell-a07e76e45e4af7ba",
     "locked": true,
     "schema_version": 3,
     "solution": false,
     "task": false
    }
   },
   "source": [
    "### Datenstrukturen"
   ]
  },
  {
   "cell_type": "markdown",
   "metadata": {
    "deletable": false,
    "editable": false,
    "nbgrader": {
     "cell_type": "markdown",
     "checksum": "a2564b4974c2d1220d25674ac7e1aaa0",
     "grade": false,
     "grade_id": "cell-6aa87cc9452d18e6",
     "locked": true,
     "schema_version": 3,
     "solution": false,
     "task": false
    }
   },
   "source": [
    "Bei den bisher genannten Datentypen wurde immer genau ein Wert eine Variable zugeordnet. Es gibt jedoch Datentypen, bei denen mehrere Werte eine Variable zugeordnet werden können."
   ]
  },
  {
   "cell_type": "markdown",
   "metadata": {
    "deletable": false,
    "editable": false,
    "nbgrader": {
     "cell_type": "markdown",
     "checksum": "b7e11b386ef715b76f08823533dd998f",
     "grade": false,
     "grade_id": "cell-2fdccbfd84ad38ff",
     "locked": true,
     "schema_version": 3,
     "solution": false,
     "task": false
    }
   },
   "source": [
    "#### Liste"
   ]
  },
  {
   "cell_type": "markdown",
   "metadata": {
    "deletable": false,
    "editable": false,
    "nbgrader": {
     "cell_type": "markdown",
     "checksum": "4affdbfafca1dd5ef814715cfa9472eb",
     "grade": false,
     "grade_id": "cell-d7c77fceeb0b8d63",
     "locked": true,
     "schema_version": 3,
     "solution": false,
     "task": false
    }
   },
   "source": [
    "Einer dieser Datentypen ist die Liste. Ihr können Werte mit den oben genannten Datentypen oder auch andere Listen zugeordnet werden. Listen werden wie folgt deklariert:"
   ]
  },
  {
   "cell_type": "code",
   "execution_count": null,
   "metadata": {},
   "outputs": [],
   "source": [
    "leer = []                   # Erstellt eine leere Liste.\n",
    "liste = [1, 2, 3]\n",
    "namen = [\"Max\", \"Anna\", \"Simon\"]\n",
    "a = [liste, namen]"
   ]
  },
  {
   "cell_type": "markdown",
   "metadata": {
    "deletable": false,
    "editable": false,
    "nbgrader": {
     "cell_type": "markdown",
     "checksum": "b81d54ea0953e5298d71bdbad6b8d255",
     "grade": false,
     "grade_id": "cell-47ecd4e63d1c393f",
     "locked": true,
     "schema_version": 3,
     "solution": false,
     "task": false
    }
   },
   "source": [
    "Listen können auch nach der Deklaration verändert werden. Es ist auch möglich an einzelne Werte der Liste zu gelangen. Dabei ist zu beachten, dass bei dem Programmieren von Null an gezählt wird."
   ]
  },
  {
   "cell_type": "code",
   "execution_count": null,
   "metadata": {},
   "outputs": [],
   "source": [
    "liste = [10, 11, 12]          # Deklarierung der Liste.\n",
    "liste[0]                      # Wert der Liste an der Stelle 1 (Wert = 10)"
   ]
  },
  {
   "cell_type": "markdown",
   "metadata": {
    "deletable": false,
    "editable": false,
    "nbgrader": {
     "cell_type": "markdown",
     "checksum": "1f3acb167ec74fa8c2e2bfac806c4147",
     "grade": false,
     "grade_id": "cell-cf4966a1983058c7",
     "locked": true,
     "schema_version": 3,
     "solution": false,
     "task": false
    }
   },
   "source": [
    "Zu den Listen gehören auch diverse Methoden, die das Verarbeiten dieser vereinfacht. Im Folgenden sind einige Methoden als Beispiel aufgelistet:"
   ]
  },
  {
   "cell_type": "code",
   "execution_count": null,
   "metadata": {},
   "outputs": [],
   "source": [
    "liste.append(x)               # Hängt den Wert x an das Ende der Liste.\n",
    "liste.clear()                 # Löscht alle Elemente der Liste.\n",
    "liste.copy()                  # Erstellt eine Kopie der Liste.\n",
    "liste.count(x)                # Zählt wie oft der Wert x in der Liste vorhanden ist.\n",
    "usw."
   ]
  },
  {
   "cell_type": "markdown",
   "metadata": {
    "deletable": false,
    "editable": false,
    "nbgrader": {
     "cell_type": "markdown",
     "checksum": "8e40a635ef269fcd4be27386550634f8",
     "grade": false,
     "grade_id": "cell-4b492a48dd9f7083",
     "locked": true,
     "schema_version": 3,
     "solution": false,
     "task": false
    }
   },
   "source": [
    "In Jupyter Notebook besteht die Möglichkeit, sich verfügbare Methoden anzeigen zu lassen. Zum Beispiel bei einer Liste: "
   ]
  },
  {
   "cell_type": "markdown",
   "metadata": {
    "deletable": false,
    "editable": false,
    "nbgrader": {
     "cell_type": "markdown",
     "checksum": "8ebcee9a4af4b4df66fd195818c5d9d1",
     "grade": false,
     "grade_id": "cell-c1f3c5657665b168",
     "locked": true,
     "schema_version": 3,
     "solution": false,
     "task": false
    }
   },
   "source": [
    "    liste. + <Tab>"
   ]
  },
  {
   "cell_type": "markdown",
   "metadata": {
    "deletable": false,
    "editable": false,
    "nbgrader": {
     "cell_type": "markdown",
     "checksum": "fadfb3f2dc8d2f0bce4c1e180a748d44",
     "grade": false,
     "grade_id": "cell-31093a28ee3d282c",
     "locked": true,
     "schema_version": 3,
     "solution": false,
     "task": false
    }
   },
   "source": [
    "#### Tuple"
   ]
  },
  {
   "cell_type": "markdown",
   "metadata": {
    "deletable": false,
    "editable": false,
    "nbgrader": {
     "cell_type": "markdown",
     "checksum": "a588b78c8a396dafe5c5f4172f320f0a",
     "grade": false,
     "grade_id": "cell-d3d1001dc10739c2",
     "locked": true,
     "schema_version": 3,
     "solution": false,
     "task": false
    }
   },
   "source": [
    "Ein Tuple ist im Gegensatz zu einer Liste unveränderlich. Ein Tuple wird wie folgt deklariert:"
   ]
  },
  {
   "cell_type": "code",
   "execution_count": null,
   "metadata": {},
   "outputs": [],
   "source": [
    "tuple1 = 1, 2, 3\n",
    "tuple2 = (10, 11, 12)           # Beide Varianten sind möglich."
   ]
  },
  {
   "cell_type": "markdown",
   "metadata": {
    "deletable": false,
    "editable": false,
    "nbgrader": {
     "cell_type": "markdown",
     "checksum": "45b82416b574910d48c28c402a4fb12f",
     "grade": false,
     "grade_id": "cell-a0b5b72a471a58db",
     "locked": true,
     "schema_version": 3,
     "solution": false,
     "task": false
    }
   },
   "source": [
    "#### Dictionaries "
   ]
  },
  {
   "cell_type": "markdown",
   "metadata": {
    "deletable": false,
    "editable": false,
    "nbgrader": {
     "cell_type": "markdown",
     "checksum": "6946aa73efc8f2b035b27991142fb559",
     "grade": false,
     "grade_id": "cell-28640093ba8eb169",
     "locked": true,
     "schema_version": 3,
     "solution": false,
     "task": false
    }
   },
   "source": [
    "Dictionaries sind wie Listen. Der Unterschied besteht darin, dass beliebige Datentypen als Indizes verwendet werden können.\n",
    "Deklaration eines Dictionaries:"
   ]
  },
  {
   "cell_type": "code",
   "execution_count": null,
   "metadata": {},
   "outputs": [],
   "source": [
    "angestellter = {\"name\" : \"Mustermann\", \"vorname\" : \"Max\", \"alter\" : \"27\", \"gehalt\" : 3750.63}"
   ]
  },
  {
   "cell_type": "markdown",
   "metadata": {
    "deletable": false,
    "editable": false,
    "nbgrader": {
     "cell_type": "markdown",
     "checksum": "70331aac420d96b9b8a0786b9a4416b1",
     "grade": false,
     "grade_id": "cell-882c8cd5b5bc8ef1",
     "locked": true,
     "schema_version": 3,
     "solution": false,
     "task": false
    }
   },
   "source": [
    "Wie oben gezeigt werden Werte den selbst gewählten Indizes zugewiesen. Auf die einzelnen Werte wird wie folgt zugegriffen:"
   ]
  },
  {
   "cell_type": "code",
   "execution_count": null,
   "metadata": {},
   "outputs": [],
   "source": [
    "angestellter[\"gehalt\"]       # Hat den Wert 3750.63"
   ]
  },
  {
   "cell_type": "markdown",
   "metadata": {
    "deletable": false,
    "editable": false,
    "nbgrader": {
     "cell_type": "markdown",
     "checksum": "dc8d7585097b5b60b507927de2d53e4c",
     "grade": false,
     "grade_id": "cell-e2dc6239f3cced65",
     "locked": true,
     "schema_version": 3,
     "solution": false,
     "task": false
    }
   },
   "source": [
    "### Aufgabe 1"
   ]
  },
  {
   "cell_type": "code",
   "execution_count": null,
   "metadata": {
    "deletable": false,
    "nbgrader": {
     "cell_type": "code",
     "checksum": "f75d194b5c86d2a738fa5494b782d2c7",
     "grade": false,
     "grade_id": "cell-a8595056c533fb71",
     "locked": false,
     "schema_version": 3,
     "solution": true,
     "task": false
    }
   },
   "outputs": [],
   "source": [
    "'''Gegeben ist die unten stehende Liste. Wie oft kommt in dieser der Buchstabe \"f\" vor?\n",
    "Benutzen Sie dafür eine Listen-Funktion und speichern Sie das Ergebnis in einer Variablen mit\n",
    "dem Namen anz .'''\n",
    "\n",
    "aufgabe1 = ['a', 'y', 'h', 'f', 'i', 'x', 'e', 'f', 5, 6, 'f', 't', 45, 'f']\n",
    "# YOUR CODE HERE\n"
   ]
  },
  {
   "cell_type": "code",
   "execution_count": null,
   "metadata": {
    "deletable": false,
    "editable": false,
    "nbgrader": {
     "cell_type": "code",
     "checksum": "9ddf39fd2e6aae78c577631f3e8d7662",
     "grade": true,
     "grade_id": "cell-cb2ba73c6ba6331f",
     "locked": true,
     "points": 0,
     "schema_version": 3,
     "solution": false,
     "task": false
    }
   },
   "outputs": [],
   "source": [
    "'''Test'''\n",
    "assert anz == 4, \"Ihr Lösungsweg ist Falsch\""
   ]
  },
  {
   "cell_type": "markdown",
   "metadata": {
    "deletable": false,
    "editable": false,
    "nbgrader": {
     "cell_type": "markdown",
     "checksum": "429572ac1510058f40d86fd58c4040d1",
     "grade": false,
     "grade_id": "cell-8a78ae977fbdb326",
     "locked": true,
     "schema_version": 3,
     "solution": false,
     "task": false
    }
   },
   "source": [
    "## Mathematische Operatoren"
   ]
  },
  {
   "cell_type": "markdown",
   "metadata": {
    "deletable": false,
    "editable": false,
    "nbgrader": {
     "cell_type": "markdown",
     "checksum": "5283936ccd568b25749688a37dc96ca7",
     "grade": false,
     "grade_id": "cell-25e272f23245dcc4",
     "locked": true,
     "schema_version": 3,
     "solution": false,
     "task": false
    }
   },
   "source": [
    "In Python ist es auch möglich mit Zahlen oder Variablen zu rechnen. Neben den Grundrechenarten und der Potenzrechnung gibt es auch Module die eine Vielzahl von weiteren Methoden bereitstellen."
   ]
  },
  {
   "cell_type": "markdown",
   "metadata": {
    "deletable": false,
    "editable": false,
    "nbgrader": {
     "cell_type": "markdown",
     "checksum": "1c12199a9ae67af4d550f16b68aec5c6",
     "grade": false,
     "grade_id": "cell-aeaf1a9e94b2aa2b",
     "locked": true,
     "schema_version": 3,
     "solution": false,
     "task": false
    }
   },
   "source": [
    "#### Addition"
   ]
  },
  {
   "cell_type": "code",
   "execution_count": null,
   "metadata": {},
   "outputs": [],
   "source": [
    "x = 3\n",
    "y = 2\n",
    "\n",
    "z = x + y\n",
    "s = 7 + 5"
   ]
  },
  {
   "cell_type": "markdown",
   "metadata": {
    "deletable": false,
    "editable": false,
    "nbgrader": {
     "cell_type": "markdown",
     "checksum": "b70890eb334a32478a40cab18cee36c1",
     "grade": false,
     "grade_id": "cell-e8905d829679da41",
     "locked": true,
     "schema_version": 3,
     "solution": false,
     "task": false
    }
   },
   "source": [
    "#### Subtraktion"
   ]
  },
  {
   "cell_type": "code",
   "execution_count": null,
   "metadata": {},
   "outputs": [],
   "source": [
    "x = 10\n",
    "y = 3\n",
    "\n",
    "z = x - y\n",
    "d = 40 - 20"
   ]
  },
  {
   "cell_type": "markdown",
   "metadata": {
    "deletable": false,
    "editable": false,
    "nbgrader": {
     "cell_type": "markdown",
     "checksum": "d96d733441e8106ece23c3ecd4991176",
     "grade": false,
     "grade_id": "cell-a759df5593ba29a8",
     "locked": true,
     "schema_version": 3,
     "solution": false,
     "task": false
    }
   },
   "source": [
    "#### Multiplikation"
   ]
  },
  {
   "cell_type": "code",
   "execution_count": null,
   "metadata": {},
   "outputs": [],
   "source": [
    "x = 3\n",
    "y = 5\n",
    "\n",
    "z = x * y\n",
    "p = 10 * 10"
   ]
  },
  {
   "cell_type": "markdown",
   "metadata": {
    "deletable": false,
    "editable": false,
    "nbgrader": {
     "cell_type": "markdown",
     "checksum": "4fb588e9862d48465d8e03803fe0e9f0",
     "grade": false,
     "grade_id": "cell-e32a6bfbce39395f",
     "locked": true,
     "schema_version": 3,
     "solution": false,
     "task": false
    }
   },
   "source": [
    "#### Division "
   ]
  },
  {
   "cell_type": "code",
   "execution_count": null,
   "metadata": {},
   "outputs": [],
   "source": [
    "x = 15\n",
    "y = 5\n",
    "\n",
    "z = x / y\n",
    "q = 40 / 4"
   ]
  },
  {
   "cell_type": "markdown",
   "metadata": {
    "deletable": false,
    "editable": false,
    "nbgrader": {
     "cell_type": "markdown",
     "checksum": "3c36f636275a5007e77525dfd99d2582",
     "grade": false,
     "grade_id": "cell-d3cf5afa0e7aa607",
     "locked": true,
     "schema_version": 3,
     "solution": false,
     "task": false
    }
   },
   "source": [
    "#### Potenzrechnung\n"
   ]
  },
  {
   "cell_type": "code",
   "execution_count": null,
   "metadata": {},
   "outputs": [],
   "source": [
    "x = 5\n",
    "y = 2\n",
    "\n",
    "z = x ** y\n",
    "e = 2 ** 2"
   ]
  },
  {
   "cell_type": "markdown",
   "metadata": {
    "deletable": false,
    "editable": false,
    "nbgrader": {
     "cell_type": "markdown",
     "checksum": "a1f235993c40f6dc2382e0c994b30bb5",
     "grade": false,
     "grade_id": "cell-434f99bff65ffebc",
     "locked": true,
     "schema_version": 3,
     "solution": false,
     "task": false
    }
   },
   "source": [
    "#### Ganzzahlige Division"
   ]
  },
  {
   "cell_type": "code",
   "execution_count": null,
   "metadata": {},
   "outputs": [],
   "source": [
    "x = 5\n",
    "y = 2\n",
    "\n",
    "z = x // y\n",
    "e = 10 // 3 "
   ]
  },
  {
   "cell_type": "markdown",
   "metadata": {
    "deletable": false,
    "editable": false,
    "nbgrader": {
     "cell_type": "markdown",
     "checksum": "1b4f93355a05a87e77ffb5e023530a86",
     "grade": false,
     "grade_id": "cell-d3ddf378706a020b",
     "locked": true,
     "schema_version": 3,
     "solution": false,
     "task": false
    }
   },
   "source": [
    "#### Modulo"
   ]
  },
  {
   "cell_type": "code",
   "execution_count": null,
   "metadata": {},
   "outputs": [],
   "source": [
    "x = 5\n",
    "y = 2\n",
    "\n",
    "z = x % y\n",
    "e = 10 % 9 "
   ]
  },
  {
   "cell_type": "markdown",
   "metadata": {
    "deletable": false,
    "editable": false,
    "nbgrader": {
     "cell_type": "markdown",
     "checksum": "f7dbce8c82cdc9f59ec9b90a9f310dcf",
     "grade": false,
     "grade_id": "cell-31bc50919f847498",
     "locked": true,
     "schema_version": 3,
     "solution": false,
     "task": false
    }
   },
   "source": [
    "## Module "
   ]
  },
  {
   "cell_type": "markdown",
   "metadata": {
    "deletable": false,
    "editable": false,
    "nbgrader": {
     "cell_type": "markdown",
     "checksum": "5fcdff9e7c3d31f73927e15f2520dd48",
     "grade": false,
     "grade_id": "cell-fb85e8de69813c2b",
     "locked": true,
     "schema_version": 3,
     "solution": false,
     "task": false
    }
   },
   "source": [
    "Wie in anderen Programmiersprachen gibt es auch in Python die Möglichkeit Bibliotheken (in Python werden diese Module genannt) hinzuzufügen. Je nach verwendeter IDE (Integradet Development Environment) sind diverse Module bereits installiert. Wenn dies nicht der Fall sein sollte, muss dies vom Benutzer manuell durchgeführt werden. Um die Methoden eines Modules nutzen zu können, muss dieses importiert werden. Dies ist wie folgt an dem Beispiel des numpy-Modules dargestellt:"
   ]
  },
  {
   "cell_type": "code",
   "execution_count": null,
   "metadata": {},
   "outputs": [],
   "source": [
    "import numpy as np          # Importieren des Modules als np.\n",
    "                                                  \n",
    "\n",
    "np.sin(np.pi/2)"
   ]
  },
  {
   "cell_type": "markdown",
   "metadata": {
    "deletable": false,
    "editable": false,
    "nbgrader": {
     "cell_type": "markdown",
     "checksum": "7ccc5df27660bf949166d9c19a4d5823",
     "grade": false,
     "grade_id": "cell-6b51046ee81952d7",
     "locked": true,
     "schema_version": 3,
     "solution": false,
     "task": false
    }
   },
   "source": [
    "## Schleifen"
   ]
  },
  {
   "cell_type": "markdown",
   "metadata": {
    "deletable": false,
    "editable": false,
    "nbgrader": {
     "cell_type": "markdown",
     "checksum": "711b59fb4616d93b419b2465bd2dceea",
     "grade": false,
     "grade_id": "cell-2e839bd6b94e24c3",
     "locked": true,
     "schema_version": 3,
     "solution": false,
     "task": false
    }
   },
   "source": [
    "Ein wichtiges Element bei dem Programmieren sind die Schleifen. Sie werden benötigt, wenn ein gewisser Teil des geschriebenen Codes, bis zum Erfüllen einer Bedingung, wiederholt werden soll. In Python gibt es zwei Arten von Schleifen, einmal die while-Schleife und einmal die for-Schleife. Beide Schleifen sind Kopfgesteuert (Abarbeitung der Schleife erst nach Überprüfung der Bedingung)."
   ]
  },
  {
   "cell_type": "markdown",
   "metadata": {
    "deletable": false,
    "editable": false,
    "nbgrader": {
     "cell_type": "markdown",
     "checksum": "f11af5a7358ed80e70bdc04b97736b45",
     "grade": false,
     "grade_id": "cell-b20a2d925c7baced",
     "locked": true,
     "schema_version": 3,
     "solution": false,
     "task": false
    }
   },
   "source": [
    "### Vergleichsoperatoren und Logische Operatoren"
   ]
  },
  {
   "cell_type": "markdown",
   "metadata": {
    "deletable": false,
    "editable": false,
    "nbgrader": {
     "cell_type": "markdown",
     "checksum": "b42c66e58a8ab75b0dc37fa597d93f89",
     "grade": false,
     "grade_id": "cell-7a558a0fe34811d3",
     "locked": true,
     "schema_version": 3,
     "solution": false,
     "task": false
    }
   },
   "source": [
    "In Bedingungen werden häufig Operatoren verwendet um zwei oder mehrere Variablen zu vergleichen. Dabei wird in Vergleichsoperatoren und Logische Operatoren unterschieden."
   ]
  },
  {
   "cell_type": "markdown",
   "metadata": {
    "deletable": false,
    "editable": false,
    "nbgrader": {
     "cell_type": "markdown",
     "checksum": "da11d77c5c852f2e24855b2581180e59",
     "grade": false,
     "grade_id": "cell-8b93ac01cc3b6189",
     "locked": true,
     "schema_version": 3,
     "solution": false,
     "task": false
    }
   },
   "source": [
    "#### Vergleichsoperatoren"
   ]
  },
  {
   "cell_type": "markdown",
   "metadata": {
    "deletable": false,
    "editable": false,
    "nbgrader": {
     "cell_type": "markdown",
     "checksum": "dd36b33a0d038eb782081dfd6124dba5",
     "grade": false,
     "grade_id": "cell-428fd8873fb18361",
     "locked": true,
     "schema_version": 3,
     "solution": false,
     "task": false
    }
   },
   "source": [
    "|Bedeutung          |Operator|Beispiel |Ergebnis|\n",
    "|   :-:             |  :-:   |  :-:    |  :-:   |\n",
    "| Gleich            |   ==   | 4 == 5  |  False |\n",
    "|Ungleich           |   !=   | 4 == 5  |  True  |\n",
    "| Kleiner           |   <    | 10 < 20 |  True  |\n",
    "| Größer            |   >    | 10 > 20 |  False |\n",
    "|Kleiner oder gleich|   <=   | 15 <= 15|  True  |\n",
    "|Größer oder gleich |   >=   | 23 >= 30|  False |"
   ]
  },
  {
   "cell_type": "markdown",
   "metadata": {
    "deletable": false,
    "editable": false,
    "nbgrader": {
     "cell_type": "markdown",
     "checksum": "c420d189f7334efae0ceb14dc9619174",
     "grade": false,
     "grade_id": "cell-381b2de451610b90",
     "locked": true,
     "schema_version": 3,
     "solution": false,
     "task": false
    }
   },
   "source": [
    "#### Logische Operatoren"
   ]
  },
  {
   "cell_type": "markdown",
   "metadata": {
    "deletable": false,
    "editable": false,
    "nbgrader": {
     "cell_type": "markdown",
     "checksum": "928aeee99586778fdad7c56817882ba8",
     "grade": false,
     "grade_id": "cell-43f9ce5428a9e161",
     "locked": true,
     "schema_version": 3,
     "solution": false,
     "task": false
    }
   },
   "source": [
    "|Bedeutung|Operator|Beispiel                |Ergebnis|\n",
    "|   :-:   |  :-:   |  :-:                   |  :-:   |\n",
    "|   und   |  and   | (5 == 5) and (10 == 10)|  True  |\n",
    "|   oder  |  or    | (5 == 5) or (10 == 10) |  True  |\n",
    "|         |        | (5 == 5) or (10 == 5)  |  True  |\n",
    "|         |        | (2 == 5) or (10 == 5)  |  False |"
   ]
  },
  {
   "cell_type": "markdown",
   "metadata": {
    "deletable": false,
    "editable": false,
    "nbgrader": {
     "cell_type": "markdown",
     "checksum": "2fa283eefa265e6741de8ba6aa12b686",
     "grade": false,
     "grade_id": "cell-7d7dff1ee0e46405",
     "locked": true,
     "schema_version": 3,
     "solution": false,
     "task": false
    }
   },
   "source": [
    "### while-Schleife"
   ]
  },
  {
   "cell_type": "markdown",
   "metadata": {
    "deletable": false,
    "editable": false,
    "nbgrader": {
     "cell_type": "markdown",
     "checksum": "f806a14b7f01ff6329ffaa5cadb9fd6b",
     "grade": false,
     "grade_id": "cell-8350ed9d68bd6e0b",
     "locked": true,
     "schema_version": 3,
     "solution": false,
     "task": false
    }
   },
   "source": [
    "Die while-Schleife wird häufig dann genutzt, wenn nicht bekannt ist, wie oft die Schleife durchlaufen werden soll. Sie wird wie folgt genutzt:"
   ]
  },
  {
   "cell_type": "code",
   "execution_count": null,
   "metadata": {},
   "outputs": [],
   "source": [
    "x = 0\n",
    "\n",
    "while(x < 5):                   # Gibt die Zahlen 1 bis 5 aus.\n",
    "    x += 1\n",
    "    print(x)"
   ]
  },
  {
   "cell_type": "markdown",
   "metadata": {
    "deletable": false,
    "editable": false,
    "nbgrader": {
     "cell_type": "markdown",
     "checksum": "0455957c019c5f5d184496d40f3193bc",
     "grade": false,
     "grade_id": "cell-a108b72a9aa826df",
     "locked": true,
     "schema_version": 3,
     "solution": false,
     "task": false
    }
   },
   "source": [
    "### for-Schleife"
   ]
  },
  {
   "cell_type": "markdown",
   "metadata": {
    "deletable": false,
    "editable": false,
    "nbgrader": {
     "cell_type": "markdown",
     "checksum": "69b8c9465b49ca9b7be7cdce4d0c54f1",
     "grade": false,
     "grade_id": "cell-97af0b41f082fe00",
     "locked": true,
     "schema_version": 3,
     "solution": false,
     "task": false
    }
   },
   "source": [
    "Die for-Schleife wird dann benutzt, wenn von Anfang an klar ist, wie oft die Schleife durchlaufen werden soll. \n",
    "Mit ihr können z.B. Listen durlaufen werden:"
   ]
  },
  {
   "cell_type": "code",
   "execution_count": null,
   "metadata": {},
   "outputs": [],
   "source": [
    "namen = ['Peter', 'Klaus', 'Helmut']\n",
    "\n",
    "for x in namen:\n",
    "    print(x)"
   ]
  },
  {
   "cell_type": "markdown",
   "metadata": {
    "deletable": false,
    "editable": false,
    "nbgrader": {
     "cell_type": "markdown",
     "checksum": "4e66c1fce1a5f36c5c806dd48c00e3f0",
     "grade": false,
     "grade_id": "cell-6a76f37c40b56a3b",
     "locked": true,
     "schema_version": 3,
     "solution": false,
     "task": false
    }
   },
   "source": [
    "In Kombination mit der for-Schleife wird häufig die range-Funktion verwendet. Diese Funktion gibt eine Reihe von Zahlen aus, deren Anfangswert, Endwert und Schrittweite durch den Nutzer festgelegt wird."
   ]
  },
  {
   "cell_type": "code",
   "execution_count": null,
   "metadata": {},
   "outputs": [],
   "source": [
    "x = 0      # Anfangswert\n",
    "y = 6      # Endwert +1 !\n",
    "z = 1      # Schrittweite\n",
    "\n",
    "for i in range(x, y, z):\n",
    "    print(i)"
   ]
  },
  {
   "cell_type": "markdown",
   "metadata": {
    "deletable": false,
    "editable": false,
    "nbgrader": {
     "cell_type": "markdown",
     "checksum": "2514b6ba7fc3ba6bba9875766179df83",
     "grade": false,
     "grade_id": "cell-0aa3c6d66e501643",
     "locked": true,
     "schema_version": 3,
     "solution": false,
     "task": false
    }
   },
   "source": [
    "Die Übergabe des Startwertes und Schrittweite ist optional. Werden keine Werte übergeben sind diese 0 für den Startwert und 1 für die Schrittweite."
   ]
  },
  {
   "cell_type": "code",
   "execution_count": null,
   "metadata": {},
   "outputs": [],
   "source": [
    "for i in range(4):\n",
    "    print(i)"
   ]
  },
  {
   "cell_type": "markdown",
   "metadata": {
    "deletable": false,
    "editable": false,
    "nbgrader": {
     "cell_type": "markdown",
     "checksum": "5369f52356c59be09f14959948c9967a",
     "grade": false,
     "grade_id": "cell-c51efa6cf819324e",
     "locked": true,
     "schema_version": 3,
     "solution": false,
     "task": false
    }
   },
   "source": [
    "### Aufgabe 2"
   ]
  },
  {
   "cell_type": "code",
   "execution_count": null,
   "metadata": {
    "deletable": false,
    "nbgrader": {
     "cell_type": "code",
     "checksum": "4877fa36000f2b310d30b4ebfcaf6cff",
     "grade": false,
     "grade_id": "cell-f4e5286e71603910",
     "locked": false,
     "schema_version": 3,
     "solution": true,
     "task": false
    }
   },
   "outputs": [],
   "source": [
    "'''Schreiben Sie eine Schleife, welche die Zahlen von 2 bis 10, in zweier Schritten, in die\n",
    " unten stehende Liste schreibt.'''\n",
    "\n",
    "aufgabe2 = []\n",
    "# YOUR CODE HERE"
   ]
  },
  {
   "cell_type": "code",
   "execution_count": null,
   "metadata": {
    "deletable": false,
    "editable": false,
    "nbgrader": {
     "cell_type": "code",
     "checksum": "e7721821da629bdd783c5a79bca7c9d4",
     "grade": true,
     "grade_id": "cell-520006f2613ce2f2",
     "locked": true,
     "points": 0,
     "schema_version": 3,
     "solution": false,
     "task": false
    }
   },
   "outputs": [],
   "source": []
  },
  {
   "cell_type": "markdown",
   "metadata": {
    "deletable": false,
    "editable": false,
    "nbgrader": {
     "cell_type": "markdown",
     "checksum": "da31733b146faddca5d5a1638f3a2a03",
     "grade": false,
     "grade_id": "cell-b2d9ba36d82af542",
     "locked": true,
     "schema_version": 3,
     "solution": false,
     "task": false
    }
   },
   "source": [
    "## Funktionen"
   ]
  },
  {
   "cell_type": "markdown",
   "metadata": {
    "deletable": false,
    "editable": false,
    "nbgrader": {
     "cell_type": "markdown",
     "checksum": "eb6b14bc0cf3389b1156463eff54c9ba",
     "grade": false,
     "grade_id": "cell-247e10d98c983e50",
     "locked": true,
     "schema_version": 3,
     "solution": false,
     "task": false
    }
   },
   "source": [
    "Beim Programmieren kommt es vor, dass gewisse Codesequenzen mehr als einmal ausgeführt werden müssen. Um nicht jedes Mal den besagten Code erneut zu schreiben, kann dieser einmalig als Funktion definiert werden. Dies hat den Vorteil, dass das Programm übersichtlicher wird.\n",
    "\n",
    "Eine Funktion besteht aus einem Funktionsnamen, Übergabeparameter und dem Code, der ausgeführt werden soll. Es können Funktionen so gestaltet werden, dass sie einen Rückgabewert haben oder nicht. Sie werden wie folgt definiert:"
   ]
  },
  {
   "cell_type": "code",
   "execution_count": null,
   "metadata": {
    "deletable": false,
    "editable": false,
    "nbgrader": {
     "cell_type": "code",
     "checksum": "490a45eb53f84b379ffbf24825175d41",
     "grade": false,
     "grade_id": "cell-f7820a0a1efbc7fc",
     "locked": true,
     "schema_version": 3,
     "solution": false,
     "task": false
    }
   },
   "outputs": [],
   "source": [
    "def verdoppeln(parameter):          # Funktion mit Rückgabewert\n",
    "    \n",
    "    x = parameter * 2\n",
    "    return x\n",
    "\n",
    "def ausgabe(name):                  # Funktion ohne Rückgabewert\n",
    "    \n",
    "    print(\"Vorname: \" + name)\n",
    "    \n",
    "\n",
    "produkt = verdoppeln(2)             # Verwendung der Funktionen\n",
    "print(produkt)\n",
    "ausgabe(\"Max\")"
   ]
  },
  {
   "cell_type": "markdown",
   "metadata": {
    "deletable": false,
    "editable": false,
    "nbgrader": {
     "cell_type": "markdown",
     "checksum": "15748397389ce206da4414e3c31ef3cd",
     "grade": false,
     "grade_id": "cell-b4384a6411db43ad",
     "locked": true,
     "schema_version": 3,
     "solution": false,
     "task": false
    }
   },
   "source": [
    "In der Regel werden die Namen der Funktionen so gewählt, dass direkt ersichtlich ist, was diese tut."
   ]
  },
  {
   "cell_type": "markdown",
   "metadata": {
    "deletable": false,
    "editable": false,
    "nbgrader": {
     "cell_type": "markdown",
     "checksum": "cc58d46b4be289b536b6a3521b2dc7c6",
     "grade": false,
     "grade_id": "cell-a9056b27e3cbb906",
     "locked": true,
     "schema_version": 3,
     "solution": false,
     "task": false
    }
   },
   "source": [
    "### Aufgabe 3"
   ]
  },
  {
   "cell_type": "code",
   "execution_count": null,
   "metadata": {
    "deletable": false,
    "nbgrader": {
     "cell_type": "code",
     "checksum": "fbe42d79ebe7a88e62ddfcbe326d3593",
     "grade": false,
     "grade_id": "cell-af6d295a19d02de6",
     "locked": false,
     "schema_version": 3,
     "solution": true,
     "task": false
    }
   },
   "outputs": [],
   "source": [
    "'''Schreiben Sie eine Funktion, welche den Flächeninhalt eines Dreiecks zurückgibt.\n",
    "    Die Funktion soll wie folgt benannt werden: flaecheDreieck(g, h)'''\n",
    "# YOUR CODE HERE"
   ]
  },
  {
   "cell_type": "code",
   "execution_count": null,
   "metadata": {
    "deletable": false,
    "editable": false,
    "nbgrader": {
     "cell_type": "code",
     "checksum": "b35dccfda43a4decc88c993d19c8ee82",
     "grade": true,
     "grade_id": "cell-9f035a3fc65b3c20",
     "locked": true,
     "points": 0,
     "schema_version": 3,
     "solution": false,
     "task": false
    }
   },
   "outputs": [],
   "source": [
    "'''Test'''\n",
    "assert flaecheDreieck(10, 10) == 50, \"Ihr Lösungsweg ist Falsch!\"\n",
    "assert flaecheDreieck(20, 20) == 200, \"Ihr Lösungsweg ist Falsch!\""
   ]
  },
  {
   "cell_type": "markdown",
   "metadata": {
    "deletable": false,
    "editable": false,
    "nbgrader": {
     "cell_type": "markdown",
     "checksum": "77934117bce7eef0c9136e7d1cf3a508",
     "grade": false,
     "grade_id": "cell-f8031f2f94f2a0bb",
     "locked": true,
     "schema_version": 3,
     "solution": false,
     "task": false
    }
   },
   "source": [
    "## Klassen\n"
   ]
  },
  {
   "cell_type": "markdown",
   "metadata": {
    "deletable": false,
    "editable": false,
    "nbgrader": {
     "cell_type": "markdown",
     "checksum": "e3da6df88ffcc3d0db9f7b2d3f6047ec",
     "grade": false,
     "grade_id": "cell-383a9751b58c21e4",
     "locked": true,
     "schema_version": 3,
     "solution": false,
     "task": false
    }
   },
   "source": [
    "Bei objektorientierten Programmiersprachen wie Python gibt es die Möglichkeit Klassen zu erstellen. Dabei sind Objekte, bestehend aus Attributen und Funktionen, in einer Klasse beschrieben. Die Funktionen der Klasse werden Methoden genannt. Klassen vereinfachen das Erweitern des Programmes, da es schnell möglich ist mehrere Objekte zu erzeugen.  Der Name einer Klasse ist frei wählbar, wobei in der Regel der erste Buchstabe großgeschrieben wird. Dies erleichtert das Erkennen von Klassen im Programm.\n",
    "\n",
    "Folgend ist Anhand eines Beispiels das Definieren einer Klasse gezeigt. Dabei ist die erste Methode ein Konstruktor. Dieser ist für das Zuweisen von Werten zu den im ihn Definierten Attributen zuständig. Der Konstruktor wird direkt nach dem Erstellen eines neuen Objektes aufgerufen. Die zweite Methode ist ein einfaches Ausgeben der Attribute eines Objektes.\n"
   ]
  },
  {
   "cell_type": "code",
   "execution_count": null,
   "metadata": {
    "deletable": false,
    "editable": false,
    "nbgrader": {
     "cell_type": "code",
     "checksum": "a67f279994e276ad419aa59238bb020c",
     "grade": false,
     "grade_id": "cell-28bebc2bfae2eaca",
     "locked": true,
     "schema_version": 3,
     "solution": false,
     "task": false
    }
   },
   "outputs": [],
   "source": [
    "class Person: # Definiert werden Klassen mit dem Schlüsselwort class gefolgt von dem Klassennamen.\n",
    "    \n",
    "    def __init__(self, vornameZuw = \"-\", nachnameZuw = \"-\", alterZuw = \"-\"): # Dies ist der Konstruktor. \n",
    "                                                                             # In ihm werden auch die Standardwerte definiert.\n",
    "        self.vorname = vornameZuw          # Das self. gibt den Konstruktor an, dass die Attribute Klassenweit definiert sind.\n",
    "        self.nachname = nachnameZuw\n",
    "        self.alter = alterZuw\n",
    "        \n",
    "    def ausgabe(self): \n",
    "        print(self.vorname)\n",
    "        print(self.nachname)\n",
    "        print(self.alter)\n",
    "        print(\"-------------------\")"
   ]
  },
  {
   "cell_type": "markdown",
   "metadata": {
    "deletable": false,
    "editable": false,
    "nbgrader": {
     "cell_type": "markdown",
     "checksum": "1004cea83bf5cc46f98b20b9b1507474",
     "grade": false,
     "grade_id": "cell-3f64105cc18dd1b5",
     "locked": true,
     "schema_version": 3,
     "solution": false,
     "task": false
    }
   },
   "source": [
    "Die Objekte werden wie folgt erstellt, benutzt und bearbeitet:"
   ]
  },
  {
   "cell_type": "code",
   "execution_count": null,
   "metadata": {
    "deletable": false,
    "editable": false,
    "nbgrader": {
     "cell_type": "code",
     "checksum": "31fca6d453316ae1c33063f7bc3bca9e",
     "grade": false,
     "grade_id": "cell-6b25add1e0b82d5c",
     "locked": true,
     "schema_version": 3,
     "solution": false,
     "task": false
    }
   },
   "outputs": [],
   "source": [
    "p1 = Person()                              # Objekt mit den Standardwerten.\n",
    "p2 = Person(\"Max\", \"Mustermann\", 25)       # Objekt mit zugewiesenen Werten.\n",
    "p3 = Person(\"Anna\", \"Musterfrau\", 27)\n",
    "\n",
    "\n",
    "p1.ausgabe()                               # Nutzen einer Methode.\n",
    "p2.ausgabe()\n",
    "p3.ausgabe()\n",
    "\n",
    "p1.vorname = \"Peter\"                       # Es können auch später die Werte geändert werden.\n",
    "p1.nachname = \"Müller\"\n",
    "p1.alter = 30"
   ]
  }
 ],
 "metadata": {
  "kernelspec": {
   "display_name": "Python 3",
   "language": "python",
   "name": "python3"
  },
  "language_info": {
   "codemirror_mode": {
    "name": "ipython",
    "version": 3
   },
   "file_extension": ".py",
   "mimetype": "text/x-python",
   "name": "python",
   "nbconvert_exporter": "python",
   "pygments_lexer": "ipython3",
   "version": "3.8.5"
  },
  "toc": {
   "base_numbering": 1,
   "nav_menu": {},
   "number_sections": true,
   "sideBar": true,
   "skip_h1_title": true,
   "title_cell": "Table of Contents",
   "title_sidebar": "Contents",
   "toc_cell": false,
   "toc_position": {
    "height": "calc(100% - 180px)",
    "left": "10px",
    "top": "150px",
    "width": "219px"
   },
   "toc_section_display": true,
   "toc_window_display": true
  }
 },
 "nbformat": 4,
 "nbformat_minor": 2
}
